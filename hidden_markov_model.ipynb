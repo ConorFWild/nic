{
 "cells": [
  {
   "cell_type": "markdown",
   "id": "7403f8da",
   "metadata": {},
   "source": [
    "# Magics"
   ]
  },
  {
   "cell_type": "code",
   "execution_count": null,
   "id": "44466814",
   "metadata": {},
   "outputs": [],
   "source": []
  },
  {
   "cell_type": "markdown",
   "id": "c3a81db7",
   "metadata": {},
   "source": [
    "# Imports"
   ]
  },
  {
   "cell_type": "code",
   "execution_count": 1,
   "id": "eeacc2d8",
   "metadata": {},
   "outputs": [],
   "source": [
    "import argparse\n",
    "import logging\n",
    "import sys\n",
    "from pathlib import Path\n",
    "\n",
    "import numpy as np\n",
    "import pandas as pd\n",
    "\n",
    "from hmmlearn import hmm"
   ]
  },
  {
   "cell_type": "markdown",
   "id": "e61b36c6",
   "metadata": {},
   "source": [
    "# Settings"
   ]
  },
  {
   "cell_type": "code",
   "execution_count": 2,
   "id": "c1489f9b",
   "metadata": {},
   "outputs": [],
   "source": [
    "dataset_path= Path(\"/nic\")\n",
    "n_iter = 200"
   ]
  },
  {
   "cell_type": "markdown",
   "id": "71052824",
   "metadata": {},
   "source": [
    "# Functions"
   ]
  },
  {
   "cell_type": "code",
   "execution_count": 3,
   "id": "0b2473f1",
   "metadata": {},
   "outputs": [],
   "source": [
    "# Dataset loading\n",
    "def load_sequences_np(dataset_path):\n",
    "    sequences = {\"train\": {}}\n",
    "        \n",
    "    sequences_tensor = np.load(str(dataset_path))\n",
    "    \n",
    "    sequences[\"train\"][\"sequence_lengths\"] = np.array([len(sequence) for sequence in sequences_tensor])\n",
    "    sequences[\"train\"][\"sequences\"] = sequences_tensor\n",
    "    return sequences"
   ]
  },
  {
   "cell_type": "markdown",
   "id": "ac96814a",
   "metadata": {},
   "source": [
    "# Code"
   ]
  },
  {
   "cell_type": "markdown",
   "id": "2055a191",
   "metadata": {},
   "source": [
    "## Load data"
   ]
  },
  {
   "cell_type": "code",
   "execution_count": 4,
   "id": "41f7bc6a",
   "metadata": {},
   "outputs": [
    {
     "ename": "NameError",
     "evalue": "name 'data' is not defined",
     "output_type": "error",
     "traceback": [
      "\u001b[1;31m---------------------------------------------------------------------------\u001b[0m",
      "\u001b[1;31mNameError\u001b[0m                                 Traceback (most recent call last)",
      "\u001b[1;32m<ipython-input-4-03aacf89c152>\u001b[0m in \u001b[0;36m<module>\u001b[1;34m\u001b[0m\n\u001b[1;32m----> 1\u001b[1;33m \u001b[0msequences\u001b[0m \u001b[1;33m=\u001b[0m \u001b[0mdata\u001b[0m\u001b[1;33m[\u001b[0m\u001b[1;34m'train'\u001b[0m\u001b[1;33m]\u001b[0m\u001b[1;33m[\u001b[0m\u001b[1;34m'sequences'\u001b[0m\u001b[1;33m]\u001b[0m\u001b[1;33m\u001b[0m\u001b[1;33m\u001b[0m\u001b[0m\n\u001b[0m\u001b[0;32m      2\u001b[0m \u001b[0mlengths\u001b[0m \u001b[1;33m=\u001b[0m \u001b[0mdata\u001b[0m\u001b[1;33m[\u001b[0m\u001b[1;34m'train'\u001b[0m\u001b[1;33m]\u001b[0m\u001b[1;33m[\u001b[0m\u001b[1;34m'sequence_lengths'\u001b[0m\u001b[1;33m]\u001b[0m\u001b[1;33m\u001b[0m\u001b[1;33m\u001b[0m\u001b[0m\n",
      "\u001b[1;31mNameError\u001b[0m: name 'data' is not defined"
     ]
    }
   ],
   "source": [
    "sequences = data['train']['sequences']\n",
    "lengths = data['train']['sequence_lengths']"
   ]
  },
  {
   "cell_type": "code",
   "execution_count": null,
   "id": "134f2a47",
   "metadata": {},
   "outputs": [],
   "source": [
    "emission_matrix_np = np.load(args.emission_matrix_path)\n"
   ]
  },
  {
   "cell_type": "markdown",
   "id": "82350e0a",
   "metadata": {},
   "source": [
    "## Train the model"
   ]
  },
  {
   "cell_type": "code",
   "execution_count": null,
   "id": "460d2402",
   "metadata": {},
   "outputs": [],
   "source": [
    "model = hmm.MultinomialHMM(n_components=7, n_iter=n_iter, params=\"st\", init_params=\"st\")"
   ]
  },
  {
   "cell_type": "code",
   "execution_count": null,
   "id": "d491a50e",
   "metadata": {},
   "outputs": [],
   "source": [
    "model.emissionprob_ = emission_matrix_np"
   ]
  },
  {
   "cell_type": "code",
   "execution_count": null,
   "id": "4a7b76e5",
   "metadata": {},
   "outputs": [],
   "source": []
  },
  {
   "cell_type": "code",
   "execution_count": null,
   "id": "4f473c0e",
   "metadata": {},
   "outputs": [],
   "source": [
    "model.fit(sequences.reshape(-1, 1), lengths)"
   ]
  },
  {
   "cell_type": "code",
   "execution_count": null,
   "id": "49ebf6f9",
   "metadata": {},
   "outputs": [],
   "source": [
    "classes = {\"Not_Oriented\": 0, \"Oriented\": 1, \"Precieved_Not_Oriented\": 2, \"Precieved_Oriented\": 3, \"Slanted\": 4, \"Unidentified\": 5, \"No_sample\": 6}\n",
    "confusion_matrix_test_table = pd.DataFrame(\n",
    "data=model.transmat_,\n",
    "index=list(classes.keys()),\n",
    "columns=list(classes.keys()))\n",
    "confusion_matrix_test_table"
   ]
  }
 ],
 "metadata": {
  "kernelspec": {
   "display_name": "Python 3",
   "language": "python",
   "name": "python3"
  },
  "language_info": {
   "codemirror_mode": {
    "name": "ipython",
    "version": 3
   },
   "file_extension": ".py",
   "mimetype": "text/x-python",
   "name": "python",
   "nbconvert_exporter": "python",
   "pygments_lexer": "ipython3",
   "version": "3.7.10"
  }
 },
 "nbformat": 4,
 "nbformat_minor": 5
}
